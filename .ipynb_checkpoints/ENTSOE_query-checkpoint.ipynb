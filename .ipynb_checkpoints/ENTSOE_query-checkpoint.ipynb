{
 "cells": [
  {
   "cell_type": "code",
   "execution_count": 1,
   "id": "393000ba-f53b-40a1-ac22-14d80104af8f",
   "metadata": {
    "tags": []
   },
   "outputs": [],
   "source": [
    "import pandas as pd\n",
    "import time\n",
    "from entsoe import EntsoePandasClient\n",
    "client = EntsoePandasClient(api_key='<insert your api key here>')"
   ]
  },
  {
   "cell_type": "code",
   "execution_count": null,
   "id": "ad7afabe-92b2-4100-a7cf-7a95cc79f344",
   "metadata": {
    "tags": []
   },
   "outputs": [
    {
     "name": "stdout",
     "output_type": "stream",
     "text": [
      "Acquiring dispatch for  AL\n",
      "AL did not produce any data\n",
      "Acquiring dispatch for  AT\n",
      "Succesful acquisition\n",
      "Continuing on saving to .csv file\n",
      "Acquiring dispatch for  BA\n",
      "Succesful acquisition\n",
      "Continuing on saving to .csv file\n",
      "Acquiring dispatch for  BE\n",
      "Succesful acquisition\n",
      "Continuing on saving to .csv file\n",
      "Acquiring dispatch for  BG\n",
      "Succesful acquisition\n",
      "Continuing on saving to .csv file\n",
      "Acquiring dispatch for  CH\n",
      "Succesful acquisition\n",
      "Continuing on saving to .csv file\n",
      "Acquiring dispatch for  CZ\n",
      "Succesful acquisition\n",
      "Continuing on saving to .csv file\n",
      "Acquiring dispatch for  DE\n",
      "Succesful acquisition\n",
      "Continuing on saving to .csv file\n",
      "Acquiring dispatch for  DK\n",
      "Succesful acquisition\n",
      "Continuing on saving to .csv file\n",
      "DK does not have hydro!\n",
      "Acquiring dispatch for  EE\n",
      "Succesful acquisition\n",
      "Continuing on saving to .csv file\n",
      "EE does not have hydro!\n",
      "Acquiring dispatch for  ES\n",
      "Succesful acquisition\n",
      "Continuing on saving to .csv file\n",
      "Acquiring dispatch for  FI\n"
     ]
    }
   ],
   "source": [
    "wall_time_start = time.time()\n",
    "countries = ['AL', 'AT', 'BA', 'BE', 'BG', 'CH', 'CZ', 'DE', 'DK', \n",
    "             'EE', 'ES', 'FI', 'FR', 'GB', 'GR', 'HR', 'HU', 'IE', \n",
    "             'IT', 'LT', 'LU', 'LV', 'ME', 'MK', 'NL', 'NO', 'PL', \n",
    "             'PT', 'RO', 'RS', 'SE', 'SI', 'SK']\n",
    "\n",
    "start = pd.Timestamp('20150101', tz ='UTC')\n",
    "end = pd.Timestamp('20230101', tz ='UTC')\n",
    "\n",
    "for c in countries:\n",
    "    print('Acquiring dispatch for ',c)\n",
    "    try:\n",
    "        generation = client.query_generation(c, \n",
    "                                             start=start,\n",
    "                                             end=end,\n",
    "                                             psr_type=None) # units are in MW\n",
    "        print('Succesful acquisition')\n",
    "        go = True\n",
    "        \n",
    "    except:\n",
    "        print(c + ' did not produce any data')\n",
    "        go = False\n",
    "        \n",
    "    if go:\n",
    "        print('Continuing on saving to .csv file')\n",
    "        try:\n",
    "            hydro_res = generation['Hydro Water Reservoir']\n",
    "            if len(hydro_res.shape) == 2:\n",
    "                hydro_res = hydro_res['Actual Aggregated']\n",
    "            hydro_res.to_csv('ENTSOE_data/hydro_res_dispatch_' + c + '_ENTSOE.csv')\n",
    "            \n",
    "        except:\n",
    "            print(c + ' does not have hydro!')\n",
    "        \n",
    "wall_time_end = time.time()\n",
    "wall_time = wall_time_end - wall_time_start\n",
    "print('Total wall time: ', round(wall_time/60,1), ' minutes')"
   ]
  }
 ],
 "metadata": {
  "kernelspec": {
   "display_name": "Python 3 (ipykernel)",
   "language": "python",
   "name": "python3"
  },
  "language_info": {
   "codemirror_mode": {
    "name": "ipython",
    "version": 3
   },
   "file_extension": ".py",
   "mimetype": "text/x-python",
   "name": "python",
   "nbconvert_exporter": "python",
   "pygments_lexer": "ipython3",
   "version": "3.10.10"
  }
 },
 "nbformat": 4,
 "nbformat_minor": 5
}
